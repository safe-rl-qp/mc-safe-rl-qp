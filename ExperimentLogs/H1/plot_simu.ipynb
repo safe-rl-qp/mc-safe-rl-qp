{
 "cells": [
  {
   "cell_type": "code",
   "execution_count": 1,
   "id": "c9b9b898",
   "metadata": {},
   "outputs": [],
   "source": [
    "import os\n",
    "from typing import List, Tuple, Dict\n",
    "import numpy as np\n",
    "import pandas as pd\n",
    "import matplotlib.pyplot as plt\n",
    "from matplotlib import rcParams"
   ]
  },
  {
   "cell_type": "code",
   "execution_count": 2,
   "id": "e5e43324",
   "metadata": {},
   "outputs": [],
   "source": [
    "STATE_LABELS = {\n",
    "    \"RLController_FDTask_pos\": \"RL+QP (FDTask)\",\n",
    "    \"RLController_PureRL\": \"RL\",\n",
    "    \"RLController_TorqueTask_pos\": \"RL+QP (TorqueTask)\",\n",
    "}\n",
    "\n",
    "STATE_COLORS = {\n",
    "    \"RLController_FDTask_pos\": \"deepskyblue\",\n",
    "    \"RLController_FDTask_torque\": \"royalblue\",\n",
    "    \"RLController_PureRL\": \"darkgrey\",\n",
    "    \"RLController_TorqueTask_pos\": \"coral\",\n",
    "    \"RLController_TorqueTask_torque\": \"darkred\",\n",
    "}"
   ]
  },
  {
   "cell_type": "code",
   "execution_count": null,
   "id": "a290149d",
   "metadata": {},
   "outputs": [],
   "source": [
    "df_RL = pd.read_csv(\"RL-simu.csv\", sep=';')\n",
    "df_RL.columns = [c.strip() for c in df_RL.columns]\n",
    "df_FDTask = pd.read_csv(\"FDTask-simu.csv\", sep=';')\n",
    "df_FDTask.columns = [c.strip() for c in df_FDTask.columns]\n",
    "df_TorqueTask = pd.read_csv(\"TorqueTask-simu.csv\", sep=';')\n",
    "df_TorqueTask.columns = [c.strip() for c in df_TorqueTask.columns]"
   ]
  },
  {
   "cell_type": "code",
   "execution_count": 4,
   "id": "f81a670c",
   "metadata": {},
   "outputs": [],
   "source": [
    "df_RL.columns.tolist()\n",
    "# Save column names to a text file\n",
    "with open(\"csv_columns.txt\", \"w\") as f:\n",
    "    for col in df_RL.columns:\n",
    "        f.write(f\"{col}\\n\")"
   ]
  },
  {
   "cell_type": "code",
   "execution_count": 5,
   "id": "e1a51203",
   "metadata": {},
   "outputs": [
    {
     "name": "stdout",
     "output_type": "stream",
     "text": [
      "Torque limits up: [150. 150. 150. 150.  30. 150. 150. 150. 150.  30. 150.  30.  30.  30.\n",
      "  30.  30.  30.  30.  30.]\n",
      "Torque limits low: [-150. -150. -150. -150.  -30. -150. -150. -150. -150.  -30. -150.  -30.\n",
      "  -30.  -30.  -30.  -30.  -30.  -30.  -30.]\n",
      "Position limits up: [0.48 0.35 2.58 2.1  0.57 0.48 0.35 2.58 2.1  0.57 0.35 1.05 0.39 1.35\n",
      " 1.3  1.05 0.39 1.35 1.3 ]\n",
      "Position limits low: [-0.48 -0.35 -2.58  0.05 -0.92 -0.48 -0.35 -2.58  0.05 -0.92 -0.35 -1.05\n",
      " -0.39 -1.35 -1.3  -1.05 -0.39 -1.35 -1.3 ]\n",
      "Soft position limits up: [0.4704 0.343  2.5284 2.0795 0.5551 0.4704 0.343  2.5284 2.0795 0.5551\n",
      " 0.343  1.029  0.3822 1.323  1.274  1.029  0.3822 1.323  1.274 ]\n",
      "Soft position limits low: [-0.4704 -0.343  -2.5284  0.0705 -0.9051 -0.4704 -0.343  -2.5284  0.0705\n",
      " -0.9051 -0.343  -1.029  -0.3822 -1.323  -1.274  -1.029  -0.3822 -1.323\n",
      " -1.274 ]\n",
      "Velocity limits up: [23 23 23 14  9 23 23 23 14  9 23  9  9 20 20  9  9 20 20]\n",
      "Velocity limits low: [-23 -23 -23 -14  -9 -23 -23 -23 -14  -9 -23  -9  -9 -20 -20  -9  -9 -20\n",
      " -20]\n",
      "Soft velocity limits up: [20.7 20.7 20.7 12.6  8.1 20.7 20.7 20.7 12.6  8.1 20.7  8.1  8.1 18.\n",
      " 18.   8.1  8.1 18.  18. ]\n",
      "Soft velocity limits low: [-20.7 -20.7 -20.7 -12.6  -8.1 -20.7 -20.7 -20.7 -12.6  -8.1 -20.7  -8.1\n",
      "  -8.1 -18.  -18.   -8.1  -8.1 -18.  -18. ]\n",
      "Collision limits (hard): [0.01  0.01  0.01  0.01  0.03  0.03  0.03  0.03  0.01  0.03  0.001 0.03\n",
      " 0.001]\n",
      "Collision limits (soft): [0.02 0.02 0.02 0.02 0.05 0.05 0.05 0.05 0.02 0.05 0.02 0.05 0.02]\n"
     ]
    }
   ],
   "source": [
    "# Limits given to the QP\n",
    "torque_limit_up = np.array([150.0, 150.0, 150.0, 150.0, 30.0, 150.0, 150.0, 150.0, 150.0, 30.0,\n",
    "                150.0, 30.0, 30.0, 30.0, 30.0, 30.0, 30.0, 30.0, 30.0])\n",
    "torque_limit_low = np.array([-150.0, -150.0, -150.0, -150.0, -30.0, -150.0, -150.0, -150.0, -150.0, -30.0,\n",
    "                -150.0, -30.0, -30.0, -30.0, -30.0, -30.0, -30.0, -30.0, -30.0])\n",
    "\n",
    "q_limit_up = np.array([0.48, 0.35, 2.58, 2.1,  0.57, 0.48, 0.35, 2.58, 2.1,  0.57, 0.35,\n",
    "            1.05, 0.39, 1.35, 1.3,  1.05, 0.39, 1.35, 1.3])\n",
    "q_limit_low = np.array([-0.48, -0.35, -2.58,  0.05, -0.92, -0.48, -0.35, -2.58,  0.05,\n",
    "            -0.92, -0.35, -1.05, -0.39, -1.35, -1.3,  -1.05, -0.39, -1.35, -1.3])\n",
    "\n",
    "\n",
    "q_limit_soft_up = np.array([df_RL[f\"RLController_q_lim_upper_{i}\"].to_numpy()[0].item() for i in range(19)])\n",
    "q_limit_soft_low = np.array([df_RL[f\"RLController_q_lim_lower_{i}\"].to_numpy()[0].item() for i in range(19)])\n",
    "\n",
    "qdot_limit_up = np.array([df_RL[f\"RLController_qdot_limHard_upper_{i}\"].to_numpy()[0].item() for i in range(19)])\n",
    "qdot_limit_low = np.array([df_RL[f\"RLController_qdot_limHard_lower_{i}\"].to_numpy()[0].item() for i in range(19)])\n",
    "\n",
    "qdot_limit_soft_up = np.array([df_RL[f\"RLController_qdot_lim_upper_{i}\"].to_numpy()[0].item() for i in range(19)])\n",
    "qdot_limit_soft_low = np.array([df_RL[f\"RLController_qdot_lim_lower_{i}\"].to_numpy()[0].item() for i in range(19)])\n",
    "\n",
    "# Soft limit\n",
    "collision_columns_di = [col for col in df_RL.columns if col.startswith(\"CollisionMonitor_\") and col.endswith(\"_di\")]\n",
    "# Hard limit\n",
    "collision_columns_ds = [col for col in df_RL.columns if col.startswith(\"CollisionMonitor_\") and col.endswith(\"_ds\")]\n",
    "\n",
    "collision_limit = np.array([df_RL[collision_columns_ds[i]].to_numpy()[0].item() for i in range(len(collision_columns_ds))])\n",
    "collision_limit_soft = np.array([df_RL[collision_columns_di[i]].to_numpy()[0].item() for i in range(len(collision_columns_di))])\n",
    "\n",
    "print(\"Torque limits up:\", torque_limit_up)\n",
    "print(\"Torque limits low:\", torque_limit_low)\n",
    "print(\"Position limits up:\", q_limit_up)\n",
    "print(\"Position limits low:\", q_limit_low)\n",
    "print(\"Soft position limits up:\", q_limit_soft_up)\n",
    "print(\"Soft position limits low:\", q_limit_soft_low)\n",
    "print(\"Velocity limits up:\", qdot_limit_up)\n",
    "print(\"Velocity limits low:\", qdot_limit_low)\n",
    "print(\"Soft velocity limits up:\", qdot_limit_soft_up)\n",
    "print(\"Soft velocity limits low:\", qdot_limit_soft_low)\n",
    "print(\"Collision limits (hard):\", collision_limit)\n",
    "print(\"Collision limits (soft):\", collision_limit_soft)\n"
   ]
  },
  {
   "cell_type": "code",
   "execution_count": 6,
   "id": "9354a90f",
   "metadata": {},
   "outputs": [],
   "source": [
    "torque_column_names = [f\"tauOut_{i}\" for i in range(19)]\n",
    "q_column_names = [f\"qIn_{i}\" for i in range(19)]\n",
    "qdot_column_names = [f\"alphaIn_{i}\" for i in range(19)]"
   ]
  },
  {
   "cell_type": "code",
   "execution_count": 7,
   "id": "340df698",
   "metadata": {},
   "outputs": [],
   "source": [
    "def icra_style():\n",
    "    \"\"\"Apply a compact ICRA-like style for paper figures.\"\"\"\n",
    "    rcParams.update({\n",
    "        'font.family': 'sans-serif',\n",
    "        'font.sans-serif': ['Helvetica', 'DejaVu Sans', 'Arial'],\n",
    "        'pdf.fonttype': 42,  # ensure editable text in vector pdfs\n",
    "        'ps.fonttype': 42,\n",
    "        'font.size': 8,\n",
    "        'axes.titlesize': 9,\n",
    "        'axes.labelsize': 8,\n",
    "        'xtick.labelsize': 7,\n",
    "        'ytick.labelsize': 7,\n",
    "        'legend.fontsize': 7,\n",
    "        'axes.linewidth': 0.6,\n",
    "    })"
   ]
  },
  {
   "cell_type": "markdown",
   "id": "02043829",
   "metadata": {},
   "source": [
    "# Right Gains plots"
   ]
  },
  {
   "cell_type": "code",
   "execution_count": 8,
   "id": "0bf52aef",
   "metadata": {},
   "outputs": [
    {
     "name": "stdout",
     "output_type": "stream",
     "text": [
      "Min time: 65.23s\n",
      "Min time (Tasks only): 65.5325s\n",
      "Max time: 68.9s\n",
      "Number of iterations: RL = 26093, FDTask = 27561, TorqueTask = 26214\n",
      "Min iterations: 26093\n",
      "Min iterations (Tasks only): 26214\n",
      "Max iterations: 27561\n",
      "Frequency: 400 Hz\n",
      "Time step: 0.0025 s\n"
     ]
    }
   ],
   "source": [
    "# Get the min and max time value across all dataframes (last value of the 't' column)\n",
    "min_time = min(df_RL['t'].iloc[-1], df_FDTask['t'].iloc[-1], df_TorqueTask['t'].iloc[-1])\n",
    "print(f\"Min time: {min_time}s\")\n",
    "\n",
    "min_time_Task = min(df_FDTask['t'].iloc[-1], df_TorqueTask['t'].iloc[-1])\n",
    "print(f\"Min time (Tasks only): {min_time_Task}s\")\n",
    "\n",
    "max_time = max(df_RL['t'].iloc[-1], df_FDTask['t'].iloc[-1], df_TorqueTask['t'].iloc[-1])\n",
    "print(f\"Max time: {max_time}s\")\n",
    "\n",
    "# Convert time to iteration by counting the number of rows in each dataframe\n",
    "num_iterations_RL = df_RL.shape[0]\n",
    "num_iterations_FDTask = df_FDTask.shape[0]\n",
    "num_iterations_TorqueTask = df_TorqueTask.shape[0]\n",
    "print(f\"Number of iterations: RL = {num_iterations_RL}, FDTask = {num_iterations_FDTask}, TorqueTask = {num_iterations_TorqueTask}\")\n",
    "\n",
    "min_iterations = min(num_iterations_RL, num_iterations_FDTask, num_iterations_TorqueTask)\n",
    "print(f\"Min iterations: {min_iterations}\")\n",
    "min_iterations_Task = min(num_iterations_FDTask, num_iterations_TorqueTask)\n",
    "print(f\"Min iterations (Tasks only): {min_iterations_Task}\")\n",
    "max_iterations = max(num_iterations_RL, num_iterations_FDTask, num_iterations_TorqueTask)\n",
    "print(f\"Max iterations: {max_iterations}\")\n",
    "\n",
    "freq = round(max_iterations / max_time)\n",
    "print(f\"Frequency: {freq} Hz\")\n",
    "dt = 1.0 / freq\n",
    "print(f\"Time step: {dt} s\")\n",
    "\n"
   ]
  },
  {
   "cell_type": "markdown",
   "id": "e51a2631",
   "metadata": {},
   "source": [
    "## $\\tau_{err} = \\tau_{cmd} - \\tau_{RL}$ for TorqueTask and FDTask"
   ]
  },
  {
   "cell_type": "code",
   "execution_count": 9,
   "id": "091d2bc8",
   "metadata": {},
   "outputs": [
    {
     "name": "stderr",
     "output_type": "stream",
     "text": [
      "<>:9: SyntaxWarning: invalid escape sequence '\\|'\n",
      "<>:9: SyntaxWarning: invalid escape sequence '\\|'\n",
      "/tmp/ipykernel_30890/1508508517.py:9: SyntaxWarning: invalid escape sequence '\\|'\n",
      "  plt.ylabel(\"$\\| \\\\tau_{cmd}-\\\\tau_{RL} \\|$ [Nm]\")\n"
     ]
    },
    {
     "data": {
      "image/png": "[encoded data removed]",
      "text/plain": [
       "<Figure size 350x240 with 1 Axes>"
      ]
     },
     "metadata": {},
     "output_type": "display_data"
    }
   ],
   "source": [
    "# Plot \"tau_err\" for FDTask and TorqueTask\n",
    "icra_style()\n",
    "plt.figure(figsize=(3.5, 2.4))\n",
    "plt.plot(df_FDTask['t'], df_FDTask['RLController_tau_err_norm'], label=STATE_LABELS[\"RLController_FDTask_pos\"], color=STATE_COLORS[\"RLController_FDTask_pos\"], linewidth=0.6, linestyle=\"-.\", alpha=0.8)\n",
    "plt.plot(df_TorqueTask['t'], df_TorqueTask['RLController_tau_err_norm'], label=STATE_LABELS[\"RLController_TorqueTask_pos\"], color=STATE_COLORS[\"RLController_TorqueTask_pos\"], linewidth=0.6, linestyle=\"-.\", alpha=0.8)\n",
    "plt.xlim(0, min_time_Task)\n",
    "plt.ylim(0, 273.12)\n",
    "plt.xlabel(\"Time [s]\")\n",
    "plt.ylabel(\"$\\| \\\\tau_{cmd}-\\\\tau_{RL} \\|$ [Nm]\")\n",
    "plt.axhline(0, color='black', linewidth=0.5, linestyle='--', alpha=0.5)\n",
    "plt.legend(frameon=False, loc='upper right')\n",
    "plt.tight_layout()\n",
    "plt.savefig(\"torque_error_comparison_simu.pdf\", dpi=300)\n",
    "plt.show()"
   ]
  },
  {
   "cell_type": "code",
   "execution_count": 10,
   "id": "210f5dfc",
   "metadata": {},
   "outputs": [
    {
     "name": "stdout",
     "output_type": "stream",
     "text": [
      "Max torque error FDTask: 122.87 Nm\n",
      "Max torque error TorqueTask: 26.66 Nm\n",
      "FDTask Torque Error: Mean = 7.38 Nm, Std = 15.22 Nm\n",
      "TorqueTask Torque Error: Mean = 2.10 Nm, Std = 4.25 Nm\n"
     ]
    }
   ],
   "source": [
    "# Compute the mean and std of \"tau_err\" for FDTask and TorqueTask over the common time range\n",
    "common_time_mask_FDTask = df_FDTask['t'] <= min_time_Task\n",
    "common_time_mask_TorqueTask = df_TorqueTask['t'] <= min_time_Task\n",
    "mean_tau_err_FDTask = df_FDTask.loc[common_time_mask_FDTask, 'RLController_tau_err_norm'].mean()\n",
    "std_tau_err_FDTask = df_FDTask.loc[common_time_mask_FDTask, 'RLController_tau_err_norm'].std()\n",
    "mean_tau_err_TorqueTask = df_TorqueTask.loc[common_time_mask_TorqueTask, 'RLController_tau_err_norm'].mean()\n",
    "std_tau_err_TorqueTask = df_TorqueTask.loc[common_time_mask_TorqueTask, 'RLController_tau_err_norm'].std()\n",
    "max_tau_err_FDTask = df_FDTask.loc[common_time_mask_FDTask, 'RLController_tau_err_norm'].max()\n",
    "max_tau_err_TorqueTask = df_TorqueTask.loc[common_time_mask_TorqueTask, 'RLController_tau_err_norm'].max()\n",
    "print(f\"Max torque error FDTask: {max_tau_err_FDTask:.2f} Nm\")\n",
    "print(f\"Max torque error TorqueTask: {max_tau_err_TorqueTask:.2f} Nm\")\n",
    "print(f\"FDTask Torque Error: Mean = {mean_tau_err_FDTask:.2f} Nm, Std = {std_tau_err_FDTask:.2f} Nm\")\n",
    "print(f\"TorqueTask Torque Error: Mean = {mean_tau_err_TorqueTask:.2f} Nm, Std = {std_tau_err_TorqueTask:.2f} Nm\")"
   ]
  },
  {
   "cell_type": "code",
   "execution_count": 11,
   "id": "85b7d0e9",
   "metadata": {},
   "outputs": [
    {
     "name": "stdout",
     "output_type": "stream",
     "text": [
      "TorqueTask torque error reduction compare to FDTask: 71.56%\n",
      "TorqueTask torque error std reduction compare to FDTask: 72.06%\n"
     ]
    }
   ],
   "source": [
    "# Compute percentage of much the TorqueTask torque error is reduced compared to FDTask\n",
    "reduction_percentage = (abs(mean_tau_err_TorqueTask - mean_tau_err_FDTask) / mean_tau_err_FDTask) * 100\n",
    "print(f\"TorqueTask torque error reduction compare to FDTask: {reduction_percentage:.2f}%\")\n",
    "reduction_percentage_std = (abs(std_tau_err_TorqueTask - std_tau_err_FDTask) / std_tau_err_FDTask) * 100\n",
    "print(f\"TorqueTask torque error std reduction compare to FDTask: {reduction_percentage_std:.2f}%\")"
   ]
  },
  {
   "cell_type": "markdown",
   "id": "5ae0c737",
   "metadata": {},
   "source": [
    "## $\\ddot{q}_{err} = M^{-1}(\\tau_{cmd} - \\tau_{RL})$ for TorqueTask and FDTask"
   ]
  },
  {
   "cell_type": "code",
   "execution_count": 12,
   "id": "45a54dee",
   "metadata": {},
   "outputs": [
    {
     "name": "stderr",
     "output_type": "stream",
     "text": [
      "<>:12: SyntaxWarning: invalid escape sequence '\\|'\n",
      "<>:12: SyntaxWarning: invalid escape sequence '\\|'\n",
      "/tmp/ipykernel_30890/3267531434.py:12: SyntaxWarning: invalid escape sequence '\\|'\n",
      "  plt.ylabel(\"$\\| \\\\ddot{q}_{cmd}-\\\\ddot{q}_{RL} \\|$ [rad/s²]\")\n"
     ]
    },
    {
     "data": {
      "image/png": "[encoded data removed]",
      "text/plain": [
       "<Figure size 350x240 with 1 Axes>"
      ]
     },
     "metadata": {},
     "output_type": "display_data"
    }
   ],
   "source": [
    "# Plot \"forwardDynamic_err\" for FDTask and TorqueTask\n",
    "qddot_err_column = \"RLController_qddot_err_norm\"\n",
    "qddot_err_norm_FDTask = df_FDTask[qddot_err_column].values\n",
    "qddot_err_norm_TorqueTask = df_TorqueTask[qddot_err_column].values\n",
    "icra_style()\n",
    "plt.figure(figsize=(3.5, 2.4))\n",
    "plt.plot(df_TorqueTask['t'], qddot_err_norm_TorqueTask, label=STATE_LABELS[\"RLController_TorqueTask_pos\"], color=STATE_COLORS[\"RLController_TorqueTask_pos\"], linewidth=0.6, linestyle=\"-.\", alpha=0.8)\n",
    "plt.plot(df_FDTask['t'], qddot_err_norm_FDTask, label=STATE_LABELS[\"RLController_FDTask_pos\"], color=STATE_COLORS[\"RLController_FDTask_pos\"], linewidth=0.6, linestyle=\"-.\", alpha=0.8)\n",
    "plt.xlim(0, min_time_Task)\n",
    "plt.ylim(0, 14717.7)\n",
    "plt.xlabel(\"Time [s]\")\n",
    "plt.ylabel(\"$\\| \\\\ddot{q}_{cmd}-\\\\ddot{q}_{RL} \\|$ [rad/s²]\")\n",
    "plt.axhline(0, color='black', linewidth=0.5, linestyle='--', alpha=0.5)\n",
    "plt.legend(frameon=False, loc='upper right')\n",
    "plt.tight_layout()\n",
    "plt.savefig(\"acceleration_error_comparison_simu.pdf\", dpi=300)\n",
    "plt.show()"
   ]
  },
  {
   "cell_type": "code",
   "execution_count": 13,
   "id": "bf850621",
   "metadata": {},
   "outputs": [
    {
     "name": "stdout",
     "output_type": "stream",
     "text": [
      "Max acceleration error FDTask: 6703.27 rad/s²\n",
      "Max acceleration error TorqueTask: 6935.74 rad/s²\n",
      "FDTask Acceleration Error: Mean = 468.2007 rad, Std = 994.3869 rad\n",
      "TorqueTask Acceleration Error: Mean = 546.0877 rad, Std = 1094.7006 rad\n"
     ]
    }
   ],
   "source": [
    "# Compute mean and std of position error for FDTask and TorqueTask over the common time range\n",
    "mean_pos_err_FDTask = qddot_err_norm_FDTask[common_time_mask_FDTask].mean()\n",
    "std_pos_err_FDTask = qddot_err_norm_FDTask[common_time_mask_FDTask].std()\n",
    "mean_pos_err_TorqueTask = qddot_err_norm_TorqueTask[common_time_mask_TorqueTask].mean()\n",
    "std_pos_err_TorqueTask = qddot_err_norm_TorqueTask[common_time_mask_TorqueTask].std()\n",
    "max_pos_err_FDTask = qddot_err_norm_FDTask[common_time_mask_FDTask].max()\n",
    "max_pos_err_TorqueTask = qddot_err_norm_TorqueTask[common_time_mask_TorqueTask].max()\n",
    "print(f\"Max acceleration error FDTask: {max_pos_err_FDTask:.2f} rad/s²\")\n",
    "print(f\"Max acceleration error TorqueTask: {max_pos_err_TorqueTask:.2f} rad/s²\")\n",
    "print(f\"FDTask Acceleration Error: Mean = {mean_pos_err_FDTask:.4f} rad, Std = {std_pos_err_FDTask:.4f} rad\")\n",
    "print(f\"TorqueTask Acceleration Error: Mean = {mean_pos_err_TorqueTask:.4f} rad, Std = {std_pos_err_TorqueTask:.4f} rad\")"
   ]
  },
  {
   "cell_type": "code",
   "execution_count": 14,
   "id": "5e798796",
   "metadata": {},
   "outputs": [
    {
     "name": "stdout",
     "output_type": "stream",
     "text": [
      "FDTask acceleration error reduction compare to TorqueTask: 14.26%\n",
      "FDTask acceleration error std reduction compare to TorqueTask: 9.16%\n"
     ]
    }
   ],
   "source": [
    "# Compute percentage of how much the FDTask position error is reduced compared to TorqueTask\n",
    "reduction_percentage_pos = (abs(mean_pos_err_TorqueTask - mean_pos_err_FDTask) / mean_pos_err_TorqueTask) * 100\n",
    "print(f\"FDTask acceleration error reduction compare to TorqueTask: {reduction_percentage_pos:.2f}%\")\n",
    "reduction_percentage_pos_std = (abs(std_pos_err_TorqueTask - std_pos_err_FDTask) / std_pos_err_TorqueTask) * 100\n",
    "print(f\"FDTask acceleration error std reduction compare to TorqueTask: {reduction_percentage_pos_std:.2f}%\")"
   ]
  },
  {
   "cell_type": "markdown",
   "id": "a6712655",
   "metadata": {},
   "source": [
    "## How many constraints were breached for RL, FDTask, TorqueTask"
   ]
  },
  {
   "cell_type": "code",
   "execution_count": 15,
   "id": "a0f7f5f2",
   "metadata": {},
   "outputs": [
    {
     "name": "stdout",
     "output_type": "stream",
     "text": [
      "Self-collisions detected (soft limit): RL = 0, FDTask = 0, TorqueTask = 0\n",
      "Self-collisions detected (hard limit): RL = 0, FDTask = 0, TorqueTask = 0\n",
      "Self-collisions detected percent of time (soft limit): RL = 0.0%, FDTask = 0.0%, TorqueTask = 0.0%\n",
      "Self-collisions detected percent of time (hard limit): RL = 0.0%, FDTask = 0.0%, TorqueTask = 0.0%\n"
     ]
    }
   ],
   "source": [
    "# Count how much self-collisions were detected under soft and hard limits for RL, FDTask, and TorqueTask\n",
    "# Search for columns related to self-collisions distance, they start with \"CollisionMonitor_\" and end with \"_distance\", between is the names of the two colliding links separated by \"::\"\n",
    "\n",
    "collision_columns_distance = [col for col in df_RL.columns if col.startswith(\"CollisionMonitor_\") and col.endswith(\"_distance\")]\n",
    "# Soft limit\n",
    "collision_columns_di = [col for col in df_RL.columns if col.startswith(\"CollisionMonitor_\") and col.endswith(\"_di\")]\n",
    "# Hard limit\n",
    "collision_columns_ds = [col for col in df_RL.columns if col.startswith(\"CollisionMonitor_\") and col.endswith(\"_ds\")]\n",
    "\n",
    "def count_self_collisions(df: pd.DataFrame, distance_cols: List[str], di_cols: List[str], ds_cols: List[str]) -> Tuple[int, int]:\n",
    "    \"\"\"Count the number of self-collisions detected under soft and hard limits.\"\"\"\n",
    "    soft_collisions = 0\n",
    "    hard_collisions = 0\n",
    "    for dist_col, di_col, ds_col in zip(distance_cols, di_cols, ds_cols):\n",
    "        # Count soft collisions (distance < di)\n",
    "        soft_collisions += (df[dist_col] < df[di_col]).sum()\n",
    "        # Count soft collisions (distance < ds)\n",
    "        hard_collisions += (df[dist_col] < df[ds_col]).sum()\n",
    "    return soft_collisions, hard_collisions\n",
    "\n",
    "hits_RL_soft_collision, hits_RL_hard_collision = count_self_collisions(df_RL, collision_columns_distance, collision_columns_di, collision_columns_ds)\n",
    "hits_FDTask_soft_collision, hits_FDTask_hard_collision = count_self_collisions(df_FDTask, collision_columns_distance, collision_columns_di, collision_columns_ds)\n",
    "hits_TorqueTask_soft_collision, hits_TorqueTask_hard_collision = count_self_collisions(df_TorqueTask, collision_columns_distance, collision_columns_di, collision_columns_ds)\n",
    "\n",
    "hits_RL_soft_collision_percent = round(hits_RL_soft_collision / min_iterations * 100, 2)\n",
    "hits_RL_hard_collision_percent = round(hits_RL_hard_collision / min_iterations * 100, 2)\n",
    "hits_FDTask_soft_collision_percent = round(hits_FDTask_soft_collision / min_iterations * 100, 2)\n",
    "hits_FDTask_hard_collision_percent = round(hits_FDTask_hard_collision / min_iterations * 100, 2)\n",
    "hits_TorqueTask_soft_collision_percent = round(hits_TorqueTask_soft_collision / min_iterations * 100, 2)\n",
    "hits_TorqueTask_hard_collision_percent = round(hits_TorqueTask_hard_collision / min_iterations * 100, 2)\n",
    "\n",
    "print(f\"Self-collisions detected (soft limit): RL = {hits_RL_soft_collision}, FDTask = {hits_FDTask_soft_collision}, TorqueTask = {hits_TorqueTask_soft_collision}\")\n",
    "print(f\"Self-collisions detected (hard limit): RL = {hits_RL_hard_collision}, FDTask = {hits_FDTask_hard_collision}, TorqueTask = {hits_TorqueTask_hard_collision}\")\n",
    "print(f\"Self-collisions detected percent of time (soft limit): RL = {hits_RL_soft_collision_percent}%, FDTask = {hits_FDTask_soft_collision_percent}%, TorqueTask = {hits_TorqueTask_soft_collision_percent}%\")\n",
    "print(f\"Self-collisions detected percent of time (hard limit): RL = {hits_RL_hard_collision_percent}%, FDTask = {hits_FDTask_hard_collision_percent}%, TorqueTask = {hits_TorqueTask_hard_collision_percent}%\")"
   ]
  },
  {
   "cell_type": "code",
   "execution_count": 16,
   "id": "f510fce0",
   "metadata": {},
   "outputs": [],
   "source": [
    "def compute_limit_excess(df, limit_lower, limit_upper, input_columns):\n",
    "    \"\"\"\n",
    "    Compute the absolute difference between input values and joint limits,\n",
    "    returning a flat vector of all limit breaches (>0).\n",
    "    \n",
    "    Parameters\n",
    "    ----------\n",
    "    df : pd.DataFrame\n",
    "        DataFrame containing input signals (e.g., torques).\n",
    "    limit_lower : list[str] or np.ndarray\n",
    "        numpy array of constant lower limits (per joint).\n",
    "    limit_upper : list[str] or np.ndarray\n",
    "        numpy array of constant upper limits (per joint).\n",
    "    input_columns : list[str]\n",
    "        Column names in df for joint inputs (e.g., tauOut per joint).\n",
    "    limitsInDf : bool, default False\n",
    "        If True, limits are taken from df columns; otherwise, from arrays.\n",
    "    \n",
    "    Returns\n",
    "    -------\n",
    "    np.ndarray\n",
    "        A 1D array containing all excess values (>0), flattened across\n",
    "        joints and time.\n",
    "    \"\"\"\n",
    "    \n",
    "    excess_list = []\n",
    "    \n",
    "    for i, col in enumerate(input_columns):\n",
    "        inputs = df[col].values\n",
    "        lower_limits = np.full_like(inputs, limit_lower[i])\n",
    "        upper_limits = np.full_like(inputs, limit_upper[i])\n",
    "\n",
    "        # Compute excesses\n",
    "        lower_excess = np.maximum(0, lower_limits - inputs)   # input < lower limit\n",
    "        upper_excess = np.maximum(0, inputs - upper_limits)   # input > upper limit\n",
    "        \n",
    "        # Total excess (only positive values are breaches)\n",
    "        joint_excess = lower_excess + upper_excess\n",
    "        \n",
    "        # Collect only breaches\n",
    "        excess_list.append(joint_excess[joint_excess > 0])\n",
    "    \n",
    "    # Flatten everything into one row vector\n",
    "    if excess_list:\n",
    "        result = np.concatenate(excess_list)\n",
    "    else:\n",
    "        result = np.array([])\n",
    "    \n",
    "    return result\n"
   ]
  },
  {
   "cell_type": "code",
   "execution_count": 17,
   "id": "d9842485",
   "metadata": {},
   "outputs": [],
   "source": [
    "# Count how many times the limits are hit for all joints in RL, FDTask, and TorqueTask over the min_time range\n",
    "def count_limit_hits(df: pd.DataFrame, limit_lower: np.ndarray, limit_upper: np.ndarray, input_columns: List[str]) -> int:\n",
    "    \"\"\"Count the number of times limits are hit across all joints\"\"\"\n",
    "    hits = ((df[input_columns] < limit_lower) | (df[input_columns] > limit_upper)).sum().sum()\n",
    "    return hits\n"
   ]
  },
  {
   "cell_type": "code",
   "execution_count": 18,
   "id": "67447ad0",
   "metadata": {},
   "outputs": [
    {
     "name": "stdout",
     "output_type": "stream",
     "text": [
      "Torque limit hits: RL = 205, FDTask = 0, TorqueTask = 0\n",
      "Torque limit hits per second: RL = 3.14, FDTask = 0.0, TorqueTask = 0.0\n"
     ]
    }
   ],
   "source": [
    "df_FDTask_min = df_FDTask[df_FDTask['t'] <= min_time]\n",
    "df_TorqueTask_min = df_TorqueTask[df_TorqueTask['t'] <= min_time]\n",
    "hits_RL_torque = count_limit_hits(df_RL, torque_limit_low, torque_limit_up, torque_column_names)\n",
    "hits_FDTask_torque = count_limit_hits(df_FDTask_min, torque_limit_low, torque_limit_up, torque_column_names)\n",
    "hits_TorqueTask_torque = count_limit_hits(df_TorqueTask_min, torque_limit_low, torque_limit_up, torque_column_names)\n",
    "hits_RL_torque_per_sec = round(hits_RL_torque / (min_iterations * dt), 2)\n",
    "hits_FDTask_torque_per_sec = round(hits_FDTask_torque / (min_iterations * dt), 2)\n",
    "hits_TorqueTask_torque_per_sec = round(hits_TorqueTask_torque / (min_iterations * dt), 2)\n",
    "print(f\"Torque limit hits: RL = {hits_RL_torque}, FDTask = {hits_FDTask_torque}, TorqueTask = {hits_TorqueTask_torque}\")\n",
    "print(f\"Torque limit hits per second: RL = {hits_RL_torque_per_sec}, FDTask = {hits_FDTask_torque_per_sec}, TorqueTask = {hits_TorqueTask_torque_per_sec}\")\n"
   ]
  },
  {
   "cell_type": "code",
   "execution_count": 19,
   "id": "460b466b",
   "metadata": {},
   "outputs": [
    {
     "name": "stdout",
     "output_type": "stream",
     "text": [
      "Position hard limit hits: RL = 0, FDTask = 0, TorqueTask = 0\n",
      "Position hard limit hits per second: RL = 0.0, FDTask = 0.0, TorqueTask = 0.0\n"
     ]
    }
   ],
   "source": [
    "hits_RL_q_hard = count_limit_hits(df_RL, q_limit_low, q_limit_up, q_column_names)\n",
    "hits_FDTask_q_hard = count_limit_hits(df_FDTask_min, q_limit_low, q_limit_up, q_column_names)\n",
    "hits_TorqueTask_q_hard = count_limit_hits(df_TorqueTask_min, q_limit_low, q_limit_up, q_column_names)\n",
    "hits_RL_q_hard_per_sec = round(hits_RL_q_hard / (min_iterations * dt), 2)\n",
    "hits_FDTask_q_hard_per_sec = round(hits_FDTask_q_hard / (min_iterations * dt), 2)\n",
    "hits_TorqueTask_q_hard_per_sec = round(hits_TorqueTask_q_hard / (min_iterations * dt), 2)\n",
    "print(f\"Position hard limit hits: RL = {hits_RL_q_hard}, FDTask = {hits_FDTask_q_hard}, TorqueTask = {hits_TorqueTask_q_hard}\")\n",
    "print(f\"Position hard limit hits per second: RL = {hits_RL_q_hard_per_sec}, FDTask = {hits_FDTask_q_hard_per_sec}, TorqueTask = {hits_TorqueTask_q_hard_per_sec}\")"
   ]
  },
  {
   "cell_type": "code",
   "execution_count": 20,
   "id": "b850d006",
   "metadata": {},
   "outputs": [
    {
     "name": "stdout",
     "output_type": "stream",
     "text": [
      "Position soft limit hits: RL = 0, FDTask = 0, TorqueTask = 0\n",
      "Position soft limit hits per second: RL = 0.0, FDTask = 0.0, TorqueTask = 0.0\n"
     ]
    }
   ],
   "source": [
    "hits_RL_q_soft = count_limit_hits(df_RL, q_limit_soft_low, q_limit_soft_up, q_column_names)\n",
    "hits_FDTask_q_soft = count_limit_hits(df_FDTask_min, q_limit_soft_low, q_limit_soft_up, q_column_names)\n",
    "hits_TorqueTask_q_soft = count_limit_hits(df_TorqueTask_min, q_limit_soft_low, q_limit_soft_up, q_column_names)\n",
    "hits_RL_q_soft_per_sec = round(hits_RL_q_soft / (min_iterations * dt), 2)\n",
    "hits_FDTask_q_soft_per_sec = round(hits_FDTask_q_soft / (min_iterations * dt), 2)\n",
    "hits_TorqueTask_q_soft_per_sec = round(hits_TorqueTask_q_soft / (min_iterations * dt), 2)\n",
    "print(f\"Position soft limit hits: RL = {hits_RL_q_soft}, FDTask = {hits_FDTask_q_soft}, TorqueTask = {hits_TorqueTask_q_soft}\")\n",
    "print(f\"Position soft limit hits per second: RL = {hits_RL_q_soft_per_sec}, FDTask = {hits_FDTask_q_soft_per_sec}, TorqueTask = {hits_TorqueTask_q_soft_per_sec}\")"
   ]
  },
  {
   "cell_type": "code",
   "execution_count": 21,
   "id": "e8ff7456",
   "metadata": {},
   "outputs": [
    {
     "name": "stdout",
     "output_type": "stream",
     "text": [
      "Velocity hard limit hits: RL = 0, FDTask = 0, TorqueTask = 0\n",
      "Velocity hard limit hits per second: RL = 0.0, FDTask = 0.0, TorqueTask = 0.0\n"
     ]
    }
   ],
   "source": [
    "hits_RL_qdot_hard = count_limit_hits(df_RL, qdot_limit_low, qdot_limit_up, qdot_column_names)\n",
    "hits_FDTask_qdot_hard = count_limit_hits(df_FDTask_min, qdot_limit_low, qdot_limit_up, qdot_column_names)\n",
    "hits_TorqueTask_qdot_hard = count_limit_hits(df_TorqueTask_min, qdot_limit_low, qdot_limit_up, qdot_column_names)\n",
    "hits_RL_qdot_hard_per_sec = round(hits_RL_qdot_hard / (min_iterations * dt), 2)\n",
    "hits_FDTask_qdot_hard_per_sec = round(hits_FDTask_qdot_hard / (min_iterations * dt), 2)\n",
    "hits_TorqueTask_qdot_hard_per_sec = round(hits_TorqueTask_qdot_hard / (min_iterations * dt), 2)\n",
    "print(f\"Velocity hard limit hits: RL = {hits_RL_qdot_hard}, FDTask = {hits_FDTask_qdot_hard}, TorqueTask = {hits_TorqueTask_qdot_hard}\")\n",
    "print(f\"Velocity hard limit hits per second: RL = {hits_RL_qdot_hard_per_sec}, FDTask = {hits_FDTask_qdot_hard_per_sec}, TorqueTask = {hits_TorqueTask_qdot_hard_per_sec}\")\n"
   ]
  },
  {
   "cell_type": "code",
   "execution_count": 22,
   "id": "b676cd87",
   "metadata": {},
   "outputs": [
    {
     "name": "stdout",
     "output_type": "stream",
     "text": [
      "Velocity soft limit hits: RL = 0, FDTask = 0, TorqueTask = 2\n",
      "Velocity soft limit hits per second: RL = 0.0, FDTask = 0.0, TorqueTask = 0.03\n"
     ]
    }
   ],
   "source": [
    "hits_RL_qdot_soft = count_limit_hits(df_RL, qdot_limit_soft_low, qdot_limit_soft_up, qdot_column_names)\n",
    "hits_FDTask_qdot_soft = count_limit_hits(df_FDTask_min, qdot_limit_soft_low, qdot_limit_soft_up, qdot_column_names)\n",
    "hits_TorqueTask_qdot_soft = count_limit_hits(df_TorqueTask_min, qdot_limit_soft_low, qdot_limit_soft_up, qdot_column_names)\n",
    "hits_RL_qdot_soft_per_sec = round(hits_RL_qdot_soft / (min_iterations * dt), 2)\n",
    "hits_FDTask_qdot_soft_per_sec = round(hits_FDTask_qdot_soft / (min_iterations * dt), 2)\n",
    "hits_TorqueTask_qdot_soft_per_sec = round(hits_TorqueTask_qdot_soft / (min_iterations * dt), 2)\n",
    "print(f\"Velocity soft limit hits: RL = {hits_RL_qdot_soft}, FDTask = {hits_FDTask_qdot_soft}, TorqueTask = {hits_TorqueTask_qdot_soft}\")\n",
    "print(f\"Velocity soft limit hits per second: RL = {hits_RL_qdot_soft_per_sec}, FDTask = {hits_FDTask_qdot_soft_per_sec}, TorqueTask = {hits_TorqueTask_qdot_soft_per_sec}\")"
   ]
  },
  {
   "cell_type": "code",
   "execution_count": 23,
   "id": "5b42caeb",
   "metadata": {},
   "outputs": [
    {
     "name": "stdout",
     "output_type": "stream",
     "text": [
      "Total hard limit hits: RL = 205, FDTask = 0, TorqueTask = 0\n",
      "Total hard limit hits per second: RL = 3.14, FDTask = 0.0, TorqueTask = 0.0\n",
      "Total soft limit hits: RL = 205, FDTask = 0, TorqueTask = 2\n",
      "Total soft limit hits per second: RL = 3.14, FDTask = 0.0, TorqueTask = 0.03\n"
     ]
    }
   ],
   "source": [
    "# Compute total hits in RL, FDTask, and TorqueTask by summing all types of hard limit hits\n",
    "total_hits_RL_hard = hits_RL_torque + hits_RL_q_hard + hits_RL_qdot_hard\n",
    "total_hits_FDTask_hard = hits_FDTask_torque + hits_FDTask_q_hard + hits_FDTask_qdot_hard\n",
    "total_hits_TorqueTask_hard = hits_TorqueTask_torque + hits_TorqueTask_q_hard + hits_TorqueTask_qdot_hard\n",
    "total_hits_RL_hard_per_sec = round(total_hits_RL_hard / (min_iterations * dt), 2)\n",
    "total_hits_FDTask_hard_per_sec = round(total_hits_FDTask_hard / (min_iterations * dt), 2)\n",
    "total_hits_TorqueTask_hard_per_sec = round(total_hits_TorqueTask_hard / (min_iterations * dt), 2)\n",
    "print(f\"Total hard limit hits: RL = {total_hits_RL_hard}, FDTask = {total_hits_FDTask_hard}, TorqueTask = {total_hits_TorqueTask_hard}\")\n",
    "print(f\"Total hard limit hits per second: RL = {total_hits_RL_hard_per_sec}, FDTask = {total_hits_FDTask_hard_per_sec}, TorqueTask = {total_hits_TorqueTask_hard_per_sec}\")\n",
    "\n",
    "\n",
    "# Add the soft limit hits as well if needed\n",
    "total_hits_RL_soft = total_hits_RL_hard + hits_RL_q_soft + hits_RL_qdot_soft\n",
    "total_hits_FDTask_soft = total_hits_FDTask_hard + hits_FDTask_q_soft + hits_FDTask_qdot_soft\n",
    "total_hits_TorqueTask_soft = total_hits_TorqueTask_hard + hits_TorqueTask_q_soft + hits_TorqueTask_qdot_soft\n",
    "total_hits_RL_soft_per_sec = round(total_hits_RL_soft / (min_iterations * dt), 2)\n",
    "total_hits_FDTask_soft_per_sec = round(total_hits_FDTask_soft / (min_iterations * dt), 2)\n",
    "total_hits_TorqueTask_soft_per_sec = round(total_hits_TorqueTask_soft / (min_iterations * dt), 2)\n",
    "print(f\"Total soft limit hits: RL = {total_hits_RL_soft}, FDTask = {total_hits_FDTask_soft}, TorqueTask = {total_hits_TorqueTask_soft}\")\n",
    "print(f\"Total soft limit hits per second: RL = {total_hits_RL_soft_per_sec}, FDTask = {total_hits_FDTask_soft_per_sec}, TorqueTask = {total_hits_TorqueTask_soft_per_sec}\")"
   ]
  },
  {
   "cell_type": "code",
   "execution_count": 24,
   "id": "10fa6b42",
   "metadata": {},
   "outputs": [
    {
     "name": "stdout",
     "output_type": "stream",
     "text": [
      "          Limits   RL  TorqueTask  FDTask\n",
      "0         q soft    0           0       0\n",
      "1         q hard    0           0       0\n",
      "2    dot{q} soft    0           2       0\n",
      "3    dot{q} hard    0           0       0\n",
      "4  col_dist soft    0           0       0\n",
      "5  col_dist hard    0           0       0\n",
      "6            tau  205           0       0\n",
      "7            Tot  205           0       0\n",
      "\n",
      "\n",
      "          Limits    RL  TorqueTask  FDTask\n",
      "0         q soft  0.00        0.00     0.0\n",
      "1         q hard  0.00        0.00     0.0\n",
      "2    dot{q} soft  0.00        0.03     0.0\n",
      "3    dot{q} hard  0.00        0.00     0.0\n",
      "4  col_dist soft  0.00        0.00     0.0\n",
      "5  col_dist hard  0.00        0.00     0.0\n",
      "6            tau  3.14        0.00     0.0\n",
      "7            Tot  3.14        0.00     0.0\n"
     ]
    }
   ],
   "source": [
    "# Build an array to summarize all results in a table\n",
    "\n",
    "# | Limits     | q soft | q hard | dot{q} soft | dot{q} hard | col_dist soft | col_dist hard | tau | Tot |\n",
    "# | ---------- | -------- | -------- | -------------- | -------------- | ------------- | ------------- | ------ | --- |\n",
    "# | RL         |          |          |                |                |               |               |        |     |\n",
    "# | TorqueTask |          |          |                |                |               |               |        |     |\n",
    "# | FDTask     |          |          |                |                |               |               |        |     |\n",
    "\n",
    "results = {\n",
    "    \"Limits\": [\"q soft\", \"q hard\", \"dot{q} soft\", \"dot{q} hard\", \"col_dist soft\", \"col_dist hard\", \"tau\", \"Tot\"],\n",
    "    \"RL\": [hits_RL_q_soft, hits_RL_q_hard, hits_RL_qdot_soft, hits_RL_qdot_hard, hits_RL_soft_collision, hits_RL_hard_collision, hits_RL_torque, total_hits_RL_hard],\n",
    "    \"TorqueTask\": [hits_TorqueTask_q_soft, hits_TorqueTask_q_hard, hits_TorqueTask_qdot_soft, hits_TorqueTask_qdot_hard, hits_TorqueTask_soft_collision, hits_TorqueTask_hard_collision, hits_TorqueTask_torque, total_hits_TorqueTask_hard],\n",
    "    \"FDTask\": [hits_FDTask_q_soft, hits_FDTask_q_hard, hits_FDTask_qdot_soft, hits_FDTask_qdot_hard, hits_FDTask_soft_collision, hits_FDTask_hard_collision, hits_FDTask_torque, total_hits_FDTask_hard],\n",
    "}\n",
    "results_df = pd.DataFrame(results)\n",
    "results_df.to_csv(\"limit_hits_summary.csv\", index=False)\n",
    "\n",
    "print(results_df)\n",
    "print(\"\\n\")\n",
    "\n",
    "# Same array but with per sec\n",
    "results_per_sec = {\n",
    "    \"Limits\": [\"q soft\", \"q hard\", \"dot{q} soft\", \"dot{q} hard\", \"col_dist soft\", \"col_dist hard\", \"tau\", \"Tot\"],\n",
    "    \"RL\": [hits_RL_q_soft_per_sec, hits_RL_q_hard_per_sec, hits_RL_qdot_soft_per_sec, hits_RL_qdot_hard_per_sec, hits_RL_soft_collision_percent, hits_RL_hard_collision_percent, hits_RL_torque_per_sec, total_hits_RL_hard_per_sec],\n",
    "    \"TorqueTask\": [hits_TorqueTask_q_soft_per_sec, hits_TorqueTask_q_hard_per_sec, hits_TorqueTask_qdot_soft_per_sec, hits_TorqueTask_qdot_hard_per_sec, hits_TorqueTask_soft_collision_percent, hits_TorqueTask_hard_collision_percent, hits_TorqueTask_torque_per_sec, total_hits_TorqueTask_hard_per_sec],\n",
    "    \"FDTask\": [hits_FDTask_q_soft_per_sec, hits_FDTask_q_hard_per_sec, hits_FDTask_qdot_soft_per_sec, hits_FDTask_qdot_hard_per_sec, hits_FDTask_soft_collision_percent, hits_FDTask_hard_collision_percent, hits_FDTask_torque_per_sec, total_hits_FDTask_hard_per_sec],\n",
    "}\n",
    "results_per_sec_df = pd.DataFrame(results_per_sec)\n",
    "results_per_sec_df.to_csv(\"limit_hits_summary_per_sec.csv\", index=False)\n",
    "print(results_per_sec_df)"
   ]
  },
  {
   "cell_type": "code",
   "execution_count": 25,
   "id": "d559244b",
   "metadata": {},
   "outputs": [
    {
     "name": "stdout",
     "output_type": "stream",
     "text": [
      "     Limits   RL  TorqueTask  FDTask\n",
      "0         q    0           0       0\n",
      "1    dot{q}    0           0       0\n",
      "2  col_dist    0           0       0\n",
      "3       tau  205           0       0\n",
      "4       Tot  205           0       0\n",
      "\n",
      "\n",
      "     Limits    RL  TorqueTask  FDTask\n",
      "0         q  0.00         0.0     0.0\n",
      "1    dot{q}  0.00         0.0     0.0\n",
      "2  col_dist  0.00         0.0     0.0\n",
      "3       tau  3.14         0.0     0.0\n",
      "4       Tot  3.14         0.0     0.0\n"
     ]
    }
   ],
   "source": [
    "# Summarize results without soft constraints\n",
    "results_hard = {\n",
    "    \"Limits\": [\"q\", \"dot{q}\", \"col_dist\", \"tau\", \"Tot\"],\n",
    "    \"RL\": [hits_RL_q_hard, hits_RL_qdot_hard, hits_RL_hard_collision, hits_RL_torque, total_hits_RL_hard],\n",
    "    \"TorqueTask\": [hits_TorqueTask_q_hard, hits_TorqueTask_qdot_hard, hits_TorqueTask_hard_collision, hits_TorqueTask_torque, total_hits_TorqueTask_hard],\n",
    "    \"FDTask\": [hits_FDTask_q_hard, hits_FDTask_qdot_hard, hits_FDTask_hard_collision, hits_FDTask_torque, total_hits_FDTask_hard],\n",
    "}\n",
    "results_hard_df = pd.DataFrame(results_hard)\n",
    "results_hard_df.to_csv(\"limit_hits_summary_hard_only.csv\", index=False)\n",
    "print(results_hard_df)\n",
    "print(\"\\n\")\n",
    "\n",
    "# Same array but with per sec\n",
    "results_hard_per_sec = {\n",
    "    \"Limits\": [\"q\", \"dot{q}\", \"col_dist\", \"tau\", \"Tot\"],\n",
    "    \"RL\": [hits_RL_q_hard_per_sec, hits_RL_qdot_hard_per_sec, hits_RL_hard_collision_percent, hits_RL_torque_per_sec, total_hits_RL_hard_per_sec],\n",
    "    \"TorqueTask\": [hits_TorqueTask_q_hard_per_sec, hits_TorqueTask_qdot_hard_per_sec, hits_TorqueTask_hard_collision_percent, hits_TorqueTask_torque_per_sec, total_hits_TorqueTask_hard_per_sec],\n",
    "    \"FDTask\": [hits_FDTask_q_hard_per_sec, hits_FDTask_qdot_hard_per_sec, hits_FDTask_hard_collision_percent, hits_FDTask_torque_per_sec, total_hits_FDTask_hard_per_sec],\n",
    "}\n",
    "results_hard_per_sec_df = pd.DataFrame(results_hard_per_sec)\n",
    "results_hard_per_sec_df.to_csv(\"limit_hits_summary_hard_only_per_sec.csv\", index=False)\n",
    "print(results_hard_per_sec_df)"
   ]
  },
  {
   "cell_type": "code",
   "execution_count": 26,
   "id": "056e2ef1",
   "metadata": {},
   "outputs": [],
   "source": [
    "# Compute the percentage of time spent beyond limits for all joints in RL, FDTask, and TorqueTask over the min_time range\n",
    "def compute_percentage_time_beyond_limits(df: pd.DataFrame, limit_lower: np.ndarray, limit_upper: np.ndarray, input_columns: List[str]) -> float:\n",
    "    \"\"\"Compute the percentage of time spent beyond limits across all joints\"\"\"\n",
    "    total_entries = df.shape[0] #* len(input_columns)\n",
    "    beyond_limits = ((df[input_columns] < limit_lower) | (df[input_columns] > limit_upper)).sum().sum()\n",
    "    percentage = (beyond_limits / total_entries) * 100\n",
    "    return percentage"
   ]
  },
  {
   "cell_type": "code",
   "execution_count": 27,
   "id": "5cf8e67b",
   "metadata": {},
   "outputs": [
    {
     "name": "stdout",
     "output_type": "stream",
     "text": [
      "Percentage of time beyond torque limits: RL = 0.7857%, FDTask = 0.0000%, TorqueTask = 0.0000%\n",
      "Percentage of time beyond position hard limits: RL = 0.0000%, FDTask = 0.0000%, TorqueTask = 0.0000%\n",
      "Percentage of time beyond position soft limits: RL = 0.0000%, FDTask = 0.0000%, TorqueTask = 0.0000%\n",
      "Percentage of time beyond velocity hard limits: RL = 0.0000%, FDTask = 0.0000%, TorqueTask = 0.0000%\n",
      "Percentage of time beyond velocity soft limits: RL = 0.0000%, FDTask = 0.0000%, TorqueTask = 0.0077%\n",
      "Percentage of time beyond collision soft limits: RL = 0.0000%, FDTask = 0.0000%, TorqueTask = 0.0000%\n",
      "Percentage of time beyond collision hard limits: RL = 0.0000%, FDTask = 0.0000%, TorqueTask = 0.0000%\n"
     ]
    }
   ],
   "source": [
    "# Show the percentage of time spent beyond limits\n",
    "percentage_RL_torque = compute_percentage_time_beyond_limits(df_RL, torque_limit_low, torque_limit_up, torque_column_names)\n",
    "percentage_FDTask_torque = compute_percentage_time_beyond_limits(df_FDTask_min, torque_limit_low, torque_limit_up, torque_column_names) \n",
    "percentage_TorqueTask_torque = compute_percentage_time_beyond_limits(df_TorqueTask_min, torque_limit_low, torque_limit_up, torque_column_names)\n",
    "print(f\"Percentage of time beyond torque limits: RL = {percentage_RL_torque:.4f}%, FDTask = {percentage_FDTask_torque:.4f}%, TorqueTask = {percentage_TorqueTask_torque:.4f}%\") \n",
    "percentage_RL_q_hard = compute_percentage_time_beyond_limits(df_RL, q_limit_low, q_limit_up, q_column_names)\n",
    "percentage_FDTask_q_hard = compute_percentage_time_beyond_limits(df_FDTask_min, q_limit_low, q_limit_up, q_column_names)\n",
    "percentage_TorqueTask_q_hard = compute_percentage_time_beyond_limits(df_TorqueTask_min, q_limit_low, q_limit_up, q_column_names)\n",
    "print(f\"Percentage of time beyond position hard limits: RL = {percentage_RL_q_hard:.4f}%, FDTask = {percentage_FDTask_q_hard:.4f}%, TorqueTask = {percentage_TorqueTask_q_hard:.4f}%\") \n",
    "percentage_RL_q_soft = compute_percentage_time_beyond_limits(df_RL, q_limit_soft_low, q_limit_soft_up, q_column_names)\n",
    "percentage_FDTask_q_soft = compute_percentage_time_beyond_limits(df_FDTask_min, q_limit_soft_low, q_limit_soft_up, q_column_names)\n",
    "percentage_TorqueTask_q_soft = compute_percentage_time_beyond_limits(df_TorqueTask_min, q_limit_soft_low, q_limit_soft_up, q_column_names)\n",
    "print(f\"Percentage of time beyond position soft limits: RL = {percentage_RL_q_soft:.4f}%, FDTask = {percentage_FDTask_q_soft:.4f}%, TorqueTask = {percentage_TorqueTask_q_soft:.4f}%\") \n",
    "percentage_RL_qdot_hard = compute_percentage_time_beyond_limits(df_RL, qdot_limit_low, qdot_limit_up, qdot_column_names)\n",
    "percentage_FDTask_qdot_hard = compute_percentage_time_beyond_limits(df_FDTask_min, qdot_limit_low, qdot_limit_up, qdot_column_names)\n",
    "percentage_TorqueTask_qdot_hard = compute_percentage_time_beyond_limits(df_TorqueTask_min, qdot_limit_low, qdot_limit_up, qdot_column_names)\n",
    "print(f\"Percentage of time beyond velocity hard limits: RL = {percentage_RL_qdot_hard:.4f}%, FDTask = {percentage_FDTask_qdot_hard:.4f}%, TorqueTask = {percentage_TorqueTask_qdot_hard:.4f}%\") \n",
    "percentage_RL_qdot_soft = compute_percentage_time_beyond_limits(df_RL, qdot_limit_soft_low, qdot_limit_soft_up, qdot_column_names)\n",
    "percentage_FDTask_qdot_soft = compute_percentage_time_beyond_limits(df_FDTask_min, qdot_limit_soft_low, qdot_limit_soft_up, qdot_column_names)\n",
    "percentage_TorqueTask_qdot_soft = compute_percentage_time_beyond_limits(df_TorqueTask_min, qdot_limit_soft_low, qdot_limit_soft_up, qdot_column_names)\n",
    "print(f\"Percentage of time beyond velocity soft limits: RL = {percentage_RL_qdot_soft:.4f}%, FDTask = {percentage_FDTask_qdot_soft:.4f}%, TorqueTask = {percentage_TorqueTask_qdot_soft:.4f}%\")\n",
    "percentage_RL_col_soft = compute_percentage_time_beyond_limits(df_RL, collision_limit_soft, np.inf, [col for col in df_RL.columns if col.startswith(\"CollisionMonitor_\") and col.endswith(\"_distance\")])\n",
    "percentage_FDTask_col_soft = compute_percentage_time_beyond_limits(df_FDTask_min, collision_limit_soft, np.inf, [col for col in df_FDTask_min.columns if col.startswith(\"CollisionMonitor_\") and col.endswith(\"_distance\")])\n",
    "percentage_TorqueTask_col_soft = compute_percentage_time_beyond_limits(df_TorqueTask_min, collision_limit_soft, np.inf, [col for col in df_TorqueTask_min.columns if col.startswith(\"CollisionMonitor_\") and col.endswith(\"_distance\")])\n",
    "print(f\"Percentage of time beyond collision soft limits: RL = {percentage_RL_col_soft:.4f}%, FDTask = {percentage_FDTask_col_soft:.4f}%, TorqueTask = {percentage_TorqueTask_col_soft:.4f}%\") \n",
    "percentage_RL_col_hard = compute_percentage_time_beyond_limits(df_RL, collision_limit, np.inf, [col for col in df_RL.columns if col.startswith(\"CollisionMonitor_\") and col.endswith(\"_distance\")])\n",
    "percentage_FDTask_col_hard = compute_percentage_time_beyond_limits(df_FDTask_min, collision_limit, np.inf, [col for col in df_FDTask_min.columns if col.startswith(\"CollisionMonitor_\") and col.endswith(\"_distance\")])\n",
    "percentage_TorqueTask_col_hard = compute_percentage_time_beyond_limits(df_TorqueTask_min, collision_limit, np.inf, [col for col in df_TorqueTask_min.columns if col.startswith(\"CollisionMonitor_\") and col.endswith(\"_distance\")])\n",
    "print(f\"Percentage of time beyond collision hard limits: RL = {percentage_RL_col_hard:.4f}%, FDTask = {percentage_FDTask_col_hard:.4f}%, TorqueTask = {percentage_TorqueTask_col_hard:.4f}%\")   "
   ]
  },
  {
   "cell_type": "code",
   "execution_count": 28,
   "id": "9b306d88",
   "metadata": {},
   "outputs": [
    {
     "name": "stdout",
     "output_type": "stream",
     "text": [
      "     Limits        RL  TorqueTask  FDTask\n",
      "0         q  0.000000         0.0     0.0\n",
      "1    dot{q}  0.000000         0.0     0.0\n",
      "2  col_dist  0.000000         0.0     0.0\n",
      "3       tau  0.785651         0.0     0.0\n",
      "4       Tot  0.785651         0.0     0.0\n"
     ]
    }
   ],
   "source": [
    "# Show the percentage of time spent beyond limits in a table without soft constraints\n",
    "results_percentage_hard = {\n",
    "    \"Limits\": [\"q\", \"dot{q}\", \"col_dist\", \"tau\", \"Tot\"],\n",
    "    \"RL\": [percentage_RL_q_hard, percentage_RL_qdot_hard, percentage_RL_col_hard, percentage_RL_torque, (percentage_RL_q_hard + percentage_RL_qdot_hard + percentage_RL_col_hard + percentage_RL_torque)],\n",
    "    \"TorqueTask\": [percentage_TorqueTask_q_hard, percentage_TorqueTask_qdot_hard, percentage_TorqueTask_col_hard, percentage_TorqueTask_torque, (percentage_TorqueTask_q_hard + percentage_TorqueTask_qdot_hard + percentage_TorqueTask_col_hard + percentage_TorqueTask_torque)],\n",
    "    \"FDTask\": [percentage_FDTask_q_hard, percentage_FDTask_qdot_hard, percentage_FDTask_col_hard, percentage_FDTask_torque, (percentage_FDTask_q_hard + percentage_FDTask_qdot_hard + percentage_FDTask_col_hard + percentage_FDTask_torque)],\n",
    "}\n",
    "results_percentage_hard_df = pd.DataFrame(results_percentage_hard)\n",
    "results_percentage_hard_df.to_csv(\"percentage_time_beyond_limits_hard_only.csv\", index=False)\n",
    "print(results_percentage_hard_df)"
   ]
  },
  {
   "cell_type": "code",
   "execution_count": 29,
   "id": "06b3b5f4",
   "metadata": {},
   "outputs": [
    {
     "name": "stdout",
     "output_type": "stream",
     "text": [
      "Torque excess samples: RL = 205, FDTask = 0, TorqueTask = 0\n"
     ]
    },
    {
     "name": "stderr",
     "output_type": "stream",
     "text": [
      "/home/bastienm/Documents/ICRA2025_QP_RL/ExpH1/venv/lib/python3.12/site-packages/numpy/lib/_histograms_impl.py:897: RuntimeWarning: invalid value encountered in divide\n",
      "  return n / db / n.sum(), bin_edges\n"
     ]
    },
    {
     "data": {
      "image/png": "[encoded data removed]",
      "text/plain": [
       "<Figure size 350x240 with 1 Axes>"
      ]
     },
     "metadata": {},
     "output_type": "display_data"
    },
    {
     "name": "stdout",
     "output_type": "stream",
     "text": [
      "RL Torque Limit Excess: Mean = 4.87 Nm, Std = 3.80 Nm\n",
      "FDTask Torque Limit Excess: Mean = nan Nm, Std = nan Nm\n",
      "TorqueTask Torque Limit Excess: Mean = nan Nm, Std = nan Nm\n",
      "RL Max Torque Limit Excess: 16.00 Nm\n",
      "FDTask Max Torque Limit Excess: 0.00 Nm\n",
      "TorqueTask Max Torque Limit Excess: 0.00 Nm\n"
     ]
    },
    {
     "name": "stderr",
     "output_type": "stream",
     "text": [
      "/tmp/ipykernel_30890/1164955527.py:25: RuntimeWarning: Mean of empty slice.\n",
      "  mean_torque_excess_FDTask = torque_excess_FDTask.mean()\n",
      "/home/bastienm/Documents/ICRA2025_QP_RL/ExpH1/venv/lib/python3.12/site-packages/numpy/_core/_methods.py:144: RuntimeWarning: invalid value encountered in scalar divide\n",
      "  ret = ret.dtype.type(ret / rcount)\n",
      "/home/bastienm/Documents/ICRA2025_QP_RL/ExpH1/venv/lib/python3.12/site-packages/numpy/_core/_methods.py:222: RuntimeWarning: Degrees of freedom <= 0 for slice\n",
      "  ret = _var(a, axis=axis, dtype=dtype, out=out, ddof=ddof,\n",
      "/home/bastienm/Documents/ICRA2025_QP_RL/ExpH1/venv/lib/python3.12/site-packages/numpy/_core/_methods.py:180: RuntimeWarning: invalid value encountered in divide\n",
      "  arrmean = um.true_divide(arrmean, div, out=arrmean,\n",
      "/home/bastienm/Documents/ICRA2025_QP_RL/ExpH1/venv/lib/python3.12/site-packages/numpy/_core/_methods.py:214: RuntimeWarning: invalid value encountered in scalar divide\n",
      "  ret = ret.dtype.type(ret / rcount)\n",
      "/tmp/ipykernel_30890/1164955527.py:27: RuntimeWarning: Mean of empty slice.\n",
      "  mean_torque_excess_TorqueTask = torque_excess_TorqueTask.mean()\n"
     ]
    }
   ],
   "source": [
    "# Compute the torque excess mean and std when the limits are hit for RL, FDTask, and TorqueTask over the min_time range\n",
    "torque_excess_RL = compute_limit_excess(df_RL, torque_limit_low, torque_limit_up, torque_column_names)\n",
    "torque_excess_FDTask = compute_limit_excess(df_FDTask_min, torque_limit_low, torque_limit_up, torque_column_names)\n",
    "torque_excess_TorqueTask = compute_limit_excess(df_TorqueTask_min, torque_limit_low, torque_limit_up, torque_column_names)\n",
    "\n",
    "\n",
    "print(f\"Torque excess samples: RL = {torque_excess_RL.size}, FDTask = {torque_excess_FDTask.size}, TorqueTask = {torque_excess_TorqueTask.size}\")\n",
    "\n",
    "# Show a plot with the histogram of the torque excess for RL, FDTask, and TorqueTask\n",
    "icra_style()\n",
    "plt.figure(figsize=(3.5, 2.4))\n",
    "plt.hist(torque_excess_FDTask, bins=30, alpha=0.5, label=STATE_LABELS[\"RLController_FDTask_pos\"], color=STATE_COLORS[\"RLController_FDTask_pos\"], density=True)\n",
    "plt.hist(torque_excess_TorqueTask, bins=30, alpha=0.5, label=STATE_LABELS[\"RLController_TorqueTask_pos\"], color=STATE_COLORS[\"RLController_TorqueTask_pos\"], density=True)\n",
    "plt.hist(torque_excess_RL, bins=30, alpha=0.5, label=STATE_LABELS[\"RLController_PureRL\"], color=STATE_COLORS[\"RLController_PureRL\"], density=True)\n",
    "plt.xlabel(\"Torque limit excess [Nm]\")\n",
    "plt.ylabel(\"Density\")\n",
    "plt.xlim(0, 50)\n",
    "plt.legend(frameon=False, loc='upper right')\n",
    "plt.tight_layout()\n",
    "plt.savefig(\"torque_limit_excess_histogram_simu.pdf\", dpi=300)\n",
    "plt.show()\n",
    "\n",
    "mean_torque_excess_RL = torque_excess_RL.mean()\n",
    "std_torque_excess_RL = torque_excess_RL.std()\n",
    "mean_torque_excess_FDTask = torque_excess_FDTask.mean()\n",
    "std_torque_excess_FDTask = torque_excess_FDTask.std()\n",
    "mean_torque_excess_TorqueTask = torque_excess_TorqueTask.mean()\n",
    "std_torque_excess_TorqueTask = torque_excess_TorqueTask.std()\n",
    "max_torque_excess_RL = torque_excess_RL.max() if torque_excess_RL.size > 0 else 0\n",
    "max_torque_excess_FDTask = torque_excess_FDTask.max() if torque_excess_FDTask.size > 0 else 0\n",
    "max_torque_excess_TorqueTask = torque_excess_TorqueTask.max() if torque_excess_TorqueTask.size > 0 else 0\n",
    "print(f\"RL Torque Limit Excess: Mean = {mean_torque_excess_RL:.2f} Nm, Std = {std_torque_excess_RL:.2f} Nm\")\n",
    "print(f\"FDTask Torque Limit Excess: Mean = {mean_torque_excess_FDTask:.2f} Nm, Std = {std_torque_excess_FDTask:.2f} Nm\")\n",
    "print(f\"TorqueTask Torque Limit Excess: Mean = {mean_torque_excess_TorqueTask:.2f} Nm, Std = {std_torque_excess_TorqueTask:.2f} Nm\")\n",
    "print(f\"RL Max Torque Limit Excess: {max_torque_excess_RL:.2f} Nm\")\n",
    "print(f\"FDTask Max Torque Limit Excess: {max_torque_excess_FDTask:.2f} Nm\")\n",
    "print(f\"TorqueTask Max Torque Limit Excess: {max_torque_excess_TorqueTask:.2f} Nm\")\n"
   ]
  },
  {
   "cell_type": "code",
   "execution_count": 30,
   "id": "63b496b9",
   "metadata": {},
   "outputs": [
    {
     "name": "stdout",
     "output_type": "stream",
     "text": [
      "Position excess samples: RL = 0, FDTask = 0, TorqueTask = 0\n"
     ]
    },
    {
     "data": {
      "image/png": "[encoded data removed]",
      "text/plain": [
       "<Figure size 350x240 with 1 Axes>"
      ]
     },
     "metadata": {},
     "output_type": "display_data"
    },
    {
     "name": "stdout",
     "output_type": "stream",
     "text": [
      "RL Position Limit Excess: Mean = nan rad, Std = nan rad\n",
      "FDTask Position Limit Excess: Mean = nan rad, Std = nan rad\n",
      "TorqueTask Position Limit Excess: Mean = nan rad, Std = nan rad\n",
      "RL Max Position Limit Excess: 0.0000 rad\n",
      "FDTask Max Position Limit Excess: 0.0000 rad\n",
      "TorqueTask Max Position Limit Excess: 0.0000 rad\n"
     ]
    },
    {
     "name": "stderr",
     "output_type": "stream",
     "text": [
      "/tmp/ipykernel_30890/2331669373.py:21: RuntimeWarning: Mean of empty slice.\n",
      "  mean_q_excess_RL = q_excess_RL.mean()\n",
      "/tmp/ipykernel_30890/2331669373.py:23: RuntimeWarning: Mean of empty slice.\n",
      "  mean_q_excess_FDTask = q_excess_FDTask.mean()\n",
      "/tmp/ipykernel_30890/2331669373.py:25: RuntimeWarning: Mean of empty slice.\n",
      "  mean_q_excess_TorqueTask = q_excess_TorqueTask.mean()\n"
     ]
    }
   ],
   "source": [
    "# Compute the position excess mean and std when the limits are hit for RL, FDTask, and TorqueTask over the min_time range\n",
    "q_excess_RL = compute_limit_excess(df_RL, q_limit_low, q_limit_up, q_column_names)\n",
    "q_excess_FDTask = compute_limit_excess(df_FDTask_min, q_limit_low, q_limit_up, q_column_names)\n",
    "q_excess_TorqueTask = compute_limit_excess(df_TorqueTask_min, q_limit_low, q_limit_up, q_column_names)\n",
    "print(f\"Position excess samples: RL = {q_excess_RL.size}, FDTask = {q_excess_FDTask.size}, TorqueTask = {q_excess_TorqueTask.size}\")\n",
    "\n",
    "# Show a plot with the histogram of the position excess for RL, FDTask, and TorqueTask\n",
    "icra_style()\n",
    "plt.figure(figsize=(3.5, 2.4))\n",
    "plt.hist(q_excess_FDTask, bins=30, alpha=0.5, label=STATE_LABELS[\"RLController_FDTask_pos\"], color=STATE_COLORS[\"RLController_FDTask_pos\"], density=True)\n",
    "plt.hist(q_excess_TorqueTask, bins=30, alpha=0.5, label=STATE_LABELS[\"RLController_TorqueTask_pos\"], color=STATE_COLORS[\"RLController_TorqueTask_pos\"], density=True)\n",
    "plt.hist(q_excess_RL, bins=30, alpha=0.5, label=STATE_LABELS[\"RLController_PureRL\"], color=STATE_COLORS[\"RLController_PureRL\"], density=True)\n",
    "plt.xlabel(\"Position limit excess [rad]\")\n",
    "plt.ylabel(\"Density\")\n",
    "plt.xlim(0, 0.5)\n",
    "plt.legend(frameon=False, loc='upper right')\n",
    "plt.tight_layout()\n",
    "plt.savefig(\"position_limit_excess_histogram_simu.pdf\", dpi=300)\n",
    "plt.show()\n",
    "\n",
    "mean_q_excess_RL = q_excess_RL.mean()\n",
    "std_q_excess_RL = q_excess_RL.std()\n",
    "mean_q_excess_FDTask = q_excess_FDTask.mean()\n",
    "std_q_excess_FDTask = q_excess_FDTask.std()\n",
    "mean_q_excess_TorqueTask = q_excess_TorqueTask.mean()\n",
    "std_q_excess_TorqueTask = q_excess_TorqueTask.std()\n",
    "max_q_excess_RL = q_excess_RL.max() if q_excess_RL.size > 0 else 0\n",
    "max_q_excess_FDTask = q_excess_FDTask.max() if q_excess_FDTask.size > 0 else 0\n",
    "max_q_excess_TorqueTask = q_excess_TorqueTask.max() if q_excess_TorqueTask.size > 0 else 0\n",
    "print(f\"RL Position Limit Excess: Mean = {mean_q_excess_RL:.4f} rad, Std = {std_q_excess_RL:.4f} rad\")\n",
    "print(f\"FDTask Position Limit Excess: Mean = {mean_q_excess_FDTask:.4f} rad, Std = {std_q_excess_FDTask:.4f} rad\")\n",
    "print(f\"TorqueTask Position Limit Excess: Mean = {mean_q_excess_TorqueTask:.4f} rad, Std = {std_q_excess_TorqueTask:.4f} rad\")\n",
    "print(f\"RL Max Position Limit Excess: {max_q_excess_RL:.4f} rad\")\n",
    "print(f\"FDTask Max Position Limit Excess: {max_q_excess_FDTask:.4f} rad\")\n",
    "print(f\"TorqueTask Max Position Limit Excess: {max_q_excess_TorqueTask:.4f} rad\")\n"
   ]
  },
  {
   "cell_type": "code",
   "execution_count": 31,
   "id": "cb73133f",
   "metadata": {},
   "outputs": [
    {
     "name": "stdout",
     "output_type": "stream",
     "text": [
      "Velocity excess samples: RL = 0, FDTask = 0, TorqueTask = 0\n"
     ]
    },
    {
     "data": {
      "image/png": "[encoded data removed]",
      "text/plain": [
       "<Figure size 350x240 with 1 Axes>"
      ]
     },
     "metadata": {},
     "output_type": "display_data"
    },
    {
     "name": "stdout",
     "output_type": "stream",
     "text": [
      "RL Velocity Limit Excess: Mean = nan rad/s, Std = nan rad/s\n",
      "FDTask Velocity Limit Excess: Mean = nan rad/s, Std = nan rad/s\n",
      "TorqueTask Velocity Limit Excess: Mean = nan rad/s, Std = nan rad/s\n",
      "RL Max Velocity Limit Excess: 0.0000 rad/s\n",
      "FDTask Max Velocity Limit Excess: 0.0000 rad/s\n",
      "TorqueTask Max Velocity Limit Excess: 0.0000 rad/s\n"
     ]
    },
    {
     "name": "stderr",
     "output_type": "stream",
     "text": [
      "/tmp/ipykernel_30890/120666343.py:19: RuntimeWarning: Mean of empty slice.\n",
      "  mean_qdot_excess_RL = qdot_excess_RL.mean()\n",
      "/tmp/ipykernel_30890/120666343.py:21: RuntimeWarning: Mean of empty slice.\n",
      "  mean_qdot_excess_FDTask = qdot_excess_FDTask.mean()\n",
      "/tmp/ipykernel_30890/120666343.py:23: RuntimeWarning: Mean of empty slice.\n",
      "  mean_qdot_excess_TorqueTask = qdot_excess_TorqueTask.mean()\n"
     ]
    }
   ],
   "source": [
    "# Compute the velocity excess mean and std when the limits are hit for RL, FDTask, and TorqueTask over the min_time range\n",
    "qdot_excess_RL = compute_limit_excess(df_RL, qdot_limit_low, qdot_limit_up, qdot_column_names)\n",
    "qdot_excess_FDTask = compute_limit_excess(df_FDTask_min, qdot_limit_low, qdot_limit_up, qdot_column_names)\n",
    "qdot_excess_TorqueTask = compute_limit_excess(df_TorqueTask_min, qdot_limit_low, qdot_limit_up, qdot_column_names)\n",
    "print(f\"Velocity excess samples: RL = {qdot_excess_RL.size}, FDTask = {qdot_excess_FDTask.size}, TorqueTask = {qdot_excess_TorqueTask.size}\")\n",
    "# Show a plot with the histogram of the velocity excess for RL, FDTask, and TorqueTask\n",
    "icra_style()\n",
    "plt.figure(figsize=(3.5, 2.4))\n",
    "plt.hist(qdot_excess_FDTask, bins=30, alpha=0.5, label=STATE_LABELS[\"RLController_FDTask_pos\"], color=STATE_COLORS[\"RLController_FDTask_pos\"], density=True)\n",
    "plt.hist(qdot_excess_TorqueTask, bins=30, alpha=0.5, label=STATE_LABELS[\"RLController_TorqueTask_pos\"], color=STATE_COLORS[\"RLController_TorqueTask_pos\"], density=True)\n",
    "plt.hist(qdot_excess_RL, bins=30, alpha=0.5, label=STATE_LABELS[\"RLController_PureRL\"], color=STATE_COLORS[\"RLController_PureRL\"], density=True)\n",
    "plt.xlabel(\"Velocity limit excess [rad/s]\")\n",
    "plt.ylabel(\"Density\")\n",
    "plt.xlim(0, 5)\n",
    "plt.legend(frameon=False, loc='upper right')\n",
    "plt.tight_layout()\n",
    "plt.savefig(\"velocity_limit_excess_histogram_simu.pdf\", dpi=300)\n",
    "plt.show()\n",
    "mean_qdot_excess_RL = qdot_excess_RL.mean()\n",
    "std_qdot_excess_RL = qdot_excess_RL.std()\n",
    "mean_qdot_excess_FDTask = qdot_excess_FDTask.mean()\n",
    "std_qdot_excess_FDTask = qdot_excess_FDTask.std()\n",
    "mean_qdot_excess_TorqueTask = qdot_excess_TorqueTask.mean()\n",
    "std_qdot_excess_TorqueTask = qdot_excess_TorqueTask.std()\n",
    "max_qdot_excess_RL = qdot_excess_RL.max() if qdot_excess_RL.size > 0 else 0\n",
    "max_qdot_excess_FDTask = qdot_excess_FDTask.max() if qdot_excess_FDTask.size > 0 else 0\n",
    "max_qdot_excess_TorqueTask = qdot_excess_TorqueTask.max() if qdot_excess_TorqueTask.size > 0 else 0\n",
    "print(f\"RL Velocity Limit Excess: Mean = {mean_qdot_excess_RL:.4f} rad/s, Std = {std_qdot_excess_RL:.4f} rad/s\")\n",
    "print(f\"FDTask Velocity Limit Excess: Mean = {mean_qdot_excess_FDTask:.4f} rad/s, Std = {std_qdot_excess_FDTask:.4f} rad/s\")\n",
    "print(f\"TorqueTask Velocity Limit Excess: Mean = {mean_qdot_excess_TorqueTask:.4f} rad/s, Std = {std_qdot_excess_TorqueTask:.4f} rad/s\")\n",
    "print(f\"RL Max Velocity Limit Excess: {max_qdot_excess_RL:.4f} rad/s\")\n",
    "print(f\"FDTask Max Velocity Limit Excess: {max_qdot_excess_FDTask:.4f} rad/s\")\n",
    "print(f\"TorqueTask Max Velocity Limit Excess: {max_qdot_excess_TorqueTask:.4f} rad/s\")\n"
   ]
  }
 ],
 "metadata": {
  "kernelspec": {
   "display_name": "venv",
   "language": "python",
   "name": "python3"
  },
  "language_info": {
   "codemirror_mode": {
    "name": "ipython",
    "version": 3
   },
   "file_extension": ".py",
   "mimetype": "text/x-python",
   "name": "python",
   "nbconvert_exporter": "python",
   "pygments_lexer": "ipython3",
   "version": "3.12.3"
  }
 },
 "nbformat": 4,
 "nbformat_minor": 5
}
